{
 "cells": [
  {
   "cell_type": "code",
   "execution_count": 28,
   "metadata": {},
   "outputs": [
    {
     "data": {
      "application/vnd.microsoft.datawrangler.viewer.v0+json": {
       "columns": [
        {
         "name": "index",
         "rawType": "int64",
         "type": "integer"
        },
        {
         "name": "id",
         "rawType": "int64",
         "type": "integer"
        },
        {
         "name": "naam",
         "rawType": "object",
         "type": "string"
        },
        {
         "name": "postcode",
         "rawType": "int64",
         "type": "integer"
        },
        {
         "name": "letters",
         "rawType": "object",
         "type": "string"
        },
        {
         "name": "huisnummer",
         "rawType": "object",
         "type": "unknown"
        },
        {
         "name": "Naam_Lengte",
         "rawType": "int64",
         "type": "integer"
        },
        {
         "name": "Kosten_Shirt",
         "rawType": "int64",
         "type": "integer"
        }
       ],
       "conversionMethod": "pd.DataFrame",
       "ref": "dae9355f-041b-4d8c-aed7-15aaf464ec05",
       "rows": [
        [
         "0",
         "1",
         "uron",
         "8017",
         "CA",
         "6",
         "4",
         "86"
        ],
        [
         "1",
         "2",
         "lynn",
         "8021",
         "CR",
         "2",
         "4",
         "86"
        ],
        [
         "2",
         "3",
         "niekie",
         "7121",
         "HM",
         "14",
         "6",
         "104"
        ],
        [
         "3",
         "4",
         "noortje",
         "8017",
         "CA",
         "2",
         "7",
         "113"
        ],
        [
         "4",
         "5",
         "baloe",
         "7722",
         "RB",
         "19",
         "5",
         "95"
        ]
       ],
       "shape": {
        "columns": 7,
        "rows": 5
       }
      },
      "text/html": [
       "<div>\n",
       "<style scoped>\n",
       "    .dataframe tbody tr th:only-of-type {\n",
       "        vertical-align: middle;\n",
       "    }\n",
       "\n",
       "    .dataframe tbody tr th {\n",
       "        vertical-align: top;\n",
       "    }\n",
       "\n",
       "    .dataframe thead th {\n",
       "        text-align: right;\n",
       "    }\n",
       "</style>\n",
       "<table border=\"1\" class=\"dataframe\">\n",
       "  <thead>\n",
       "    <tr style=\"text-align: right;\">\n",
       "      <th></th>\n",
       "      <th>id</th>\n",
       "      <th>naam</th>\n",
       "      <th>postcode</th>\n",
       "      <th>letters</th>\n",
       "      <th>huisnummer</th>\n",
       "      <th>Naam_Lengte</th>\n",
       "      <th>Kosten_Shirt</th>\n",
       "    </tr>\n",
       "  </thead>\n",
       "  <tbody>\n",
       "    <tr>\n",
       "      <th>0</th>\n",
       "      <td>1</td>\n",
       "      <td>uron</td>\n",
       "      <td>8017</td>\n",
       "      <td>CA</td>\n",
       "      <td>6</td>\n",
       "      <td>4</td>\n",
       "      <td>86</td>\n",
       "    </tr>\n",
       "    <tr>\n",
       "      <th>1</th>\n",
       "      <td>2</td>\n",
       "      <td>lynn</td>\n",
       "      <td>8021</td>\n",
       "      <td>CR</td>\n",
       "      <td>2</td>\n",
       "      <td>4</td>\n",
       "      <td>86</td>\n",
       "    </tr>\n",
       "    <tr>\n",
       "      <th>2</th>\n",
       "      <td>3</td>\n",
       "      <td>niekie</td>\n",
       "      <td>7121</td>\n",
       "      <td>HM</td>\n",
       "      <td>14</td>\n",
       "      <td>6</td>\n",
       "      <td>104</td>\n",
       "    </tr>\n",
       "    <tr>\n",
       "      <th>3</th>\n",
       "      <td>4</td>\n",
       "      <td>noortje</td>\n",
       "      <td>8017</td>\n",
       "      <td>CA</td>\n",
       "      <td>2</td>\n",
       "      <td>7</td>\n",
       "      <td>113</td>\n",
       "    </tr>\n",
       "    <tr>\n",
       "      <th>4</th>\n",
       "      <td>5</td>\n",
       "      <td>baloe</td>\n",
       "      <td>7722</td>\n",
       "      <td>RB</td>\n",
       "      <td>19</td>\n",
       "      <td>5</td>\n",
       "      <td>95</td>\n",
       "    </tr>\n",
       "  </tbody>\n",
       "</table>\n",
       "</div>"
      ],
      "text/plain": [
       "   id     naam  postcode letters huisnummer  Naam_Lengte  Kosten_Shirt\n",
       "0   1     uron      8017      CA          6            4            86\n",
       "1   2     lynn      8021      CR          2            4            86\n",
       "2   3   niekie      7121      HM         14            6           104\n",
       "3   4  noortje      8017      CA          2            7           113\n",
       "4   5    baloe      7722      RB         19            5            95"
      ]
     },
     "execution_count": 28,
     "metadata": {},
     "output_type": "execute_result"
    }
   ],
   "source": [
    "import pandas as pd\n",
    "\n",
    "namen_df = pd.read_excel('namen.xlsx', sheet_name=\"collectie\")\n",
    "bestelling_df = pd.read_csv('bestelling.csv')\n",
    "\n",
    "namen_df['postcode'] = namen_df['postcode'].fillna(8017)\n",
    "namen_df['letters'] = namen_df['letters'].fillna('CA')\n",
    "\n",
    "namen_df.loc[namen_df['id'] == 3, 'huisnummer'] = 14\n",
    "\n",
    "kosten=9\n",
    "shirt=50\n",
    "\n",
    "namen_df['Naam_Lengte'] = namen_df['naam'].apply(len)\n",
    "namen_df['Kosten_Shirt'] = shirt + (namen_df['Naam_Lengte'] * kosten)\n",
    "namen_df.head()\n",
    "\n",
    "bestelling_df.columns = ['klantid', 'bestelid']\n",
    "\n",
    "result = pd.merge(namen_df, bestelling_df, left_on='id', right_on='klantid', how='inner')\n",
    "\n",
    "namen_df['postcode'] = namen_df['postcode'].astype(int)\n",
    "namen_df.head()"
   ]
  }
 ],
 "metadata": {
  "kernelspec": {
   "display_name": "Python 3",
   "language": "python",
   "name": "python3"
  },
  "language_info": {
   "codemirror_mode": {
    "name": "ipython",
    "version": 3
   },
   "file_extension": ".py",
   "mimetype": "text/x-python",
   "name": "python",
   "nbconvert_exporter": "python",
   "pygments_lexer": "ipython3",
   "version": "3.12.6"
  }
 },
 "nbformat": 4,
 "nbformat_minor": 2
}
